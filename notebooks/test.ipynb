{
 "cells": [
  {
   "cell_type": "code",
   "execution_count": 1,
   "id": "4d5f9995",
   "metadata": {},
   "outputs": [],
   "source": [
    "from setup import setup\n",
    "\n",
    "setup()"
   ]
  },
  {
   "cell_type": "code",
   "execution_count": null,
   "id": "0f83d986",
   "metadata": {},
   "outputs": [],
   "source": [
    "from config import RULES\n",
    "from src.dataclasses.grid import Grid\n",
    "from src.repository.cells_repository import cells_repository\n",
    "from src.visualization.visualizer_grid import vis_grid"
   ]
  },
  {
   "cell_type": "code",
   "execution_count": 3,
   "id": "5e03b223",
   "metadata": {},
   "outputs": [],
   "source": [
    "cells_repository.register_cells(path=RULES)"
   ]
  },
  {
   "cell_type": "code",
   "execution_count": 4,
   "id": "996bfa9c",
   "metadata": {},
   "outputs": [],
   "source": [
    "grid = Grid(\n",
    "    [\n",
    "        [\"O\", \"O\", \"O\", \"O\", \"O\", \"O\", \"O\", \"O\", \"O\", \"O\", \"O\"],\n",
    "        [\"O\", \"O\", \"X\", \"X\", \"X\", \"O\", \"O\", \"O\", \"O\", \"O\", \"O\"],\n",
    "        [\"O\", \"X\", \"X\", \"X\", \"X\", \"X\", \"O\", \"O\", \"X\", \"X\", \"O\"],\n",
    "        [\"O\", \"X\", \"X\", \"X\", \"X\", \"X\", \"O\", \"O\", \"X\", \"X\", \"O\"],\n",
    "        [\"O\", \"X\", \"X\", \"X\", \"X\", \"X\", \"O\", \"O\", \"X\", \"X\", \"O\"],\n",
    "        [\"O\", \"X\", \"X\", \"X\", \"X\", \"X\", \"O\", \"O\", \"X\", \"X\", \"O\"],\n",
    "        [\"O\", \"X\", \"X\", \"X\", \"X\", \"X\", \"O\", \"O\", \"O\", \"O\", \"O\"],\n",
    "        [\"O\", \"O\", \"O\", \"X\", \"X\", \"O\", \"O\", \"O\", \"O\", \"O\", \"O\"],\n",
    "        [\"O\", \"O\", \"O\", \"O\", \"O\", \"O\", \"O\", \"O\", \"O\", \"O\", \"O\"],\n",
    "        [\"O\", \"O\", \"O\", \"O\", \"O\", \"O\", \"O\", \"O\", \"O\", \"O\", \"O\"],\n",
    "    ]\n",
    ")"
   ]
  },
  {
   "cell_type": "code",
   "execution_count": 5,
   "id": "b121e930",
   "metadata": {},
   "outputs": [],
   "source": [
    "grid = Grid(\n",
    "    [\n",
    "        [\"O\", \"O\", \"O\", \"O\", \"O\", \"O\", \"O\", \"O\", \"O\", \"O\", \"O\"],\n",
    "        [\"O\", \"O\", \"X\", \"X\", \"X\", \"O\", \"O\", \"O\", \"O\", \"O\", \"O\"],\n",
    "        [\"O\", \"X\", \"X\", \"X\", \"X\", \"X\", \"X\", \"X\", \"X\", \"X\", \"O\"],\n",
    "        [\"O\", \"X\", \"X\", \"X\", \"X\", \"X\", \"X\", \"X\", \"X\", \"X\", \"O\"],\n",
    "        [\"O\", \"X\", \"X\", \"X\", \"X\", \"X\", \"X\", \"X\", \"X\", \"X\", \"O\"],\n",
    "        [\"O\", \"X\", \"X\", \"X\", \"X\", \"X\", \"X\", \"X\", \"X\", \"X\", \"O\"],\n",
    "        [\"O\", \"X\", \"X\", \"X\", \"X\", \"X\", \"O\", \"O\", \"O\", \"O\", \"O\"],\n",
    "        [\"O\", \"O\", \"O\", \"X\", \"X\", \"O\", \"O\", \"O\", \"O\", \"O\", \"O\"],\n",
    "        [\"O\", \"O\", \"O\", \"O\", \"O\", \"O\", \"O\", \"O\", \"O\", \"O\", \"O\"],\n",
    "        [\"O\", \"O\", \"O\", \"O\", \"O\", \"O\", \"O\", \"O\", \"O\", \"O\", \"O\"],\n",
    "    ]\n",
    ")"
   ]
  },
  {
   "cell_type": "code",
   "execution_count": 6,
   "id": "1206a2d5",
   "metadata": {},
   "outputs": [],
   "source": [
    "# grid = Grid.from_height_map(hmap=\"data/height_maps/f5ccb337-bc60-498b-9c79-f26c2af04c32.dat\")"
   ]
  },
  {
   "cell_type": "code",
   "execution_count": 7,
   "id": "f6baafa2",
   "metadata": {},
   "outputs": [
    {
     "data": {
      "image/png": "[encoded data removed]",
      "text/plain": [
       "<Figure size 1100x1000 with 110 Axes>"
      ]
     },
     "metadata": {},
     "output_type": "display_data"
    }
   ],
   "source": [
    "vis_grid.draw(repository=cells_repository, grid=grid, show=True, show_borders=True)"
   ]
  }
 ],
 "metadata": {
  "kernelspec": {
   "display_name": "Python 3",
   "language": "python",
   "name": "python3"
  },
  "language_info": {
   "codemirror_mode": {
    "name": "ipython",
    "version": 3
   },
   "file_extension": ".py",
   "mimetype": "text/x-python",
   "name": "python",
   "nbconvert_exporter": "python",
   "pygments_lexer": "ipython3",
   "version": "3.12.0"
  }
 },
 "nbformat": 4,
 "nbformat_minor": 5
}
