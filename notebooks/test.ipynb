{
 "cells": [
  {
   "cell_type": "code",
   "execution_count": 1,
   "id": "4d5f9995",
   "metadata": {},
   "outputs": [],
   "source": [
    "from setup import setup\n",
    "\n",
    "setup()"
   ]
  },
  {
   "cell_type": "code",
   "execution_count": 2,
   "id": "0f83d986",
   "metadata": {},
   "outputs": [],
   "source": [
    "from src.config import RULES\n",
    "from src.dataclass.grid import Grid\n",
    "from src.repository.repository import repository\n",
    "from src.visualization.visualizer_grid import vis_grid"
   ]
  },
  {
   "cell_type": "code",
   "execution_count": 3,
   "id": "5e03b223",
   "metadata": {},
   "outputs": [],
   "source": [
    "repository.register_patterns(path=RULES)"
   ]
  },
  {
   "cell_type": "code",
   "execution_count": 4,
   "id": "996bfa9c",
   "metadata": {},
   "outputs": [],
   "source": [
    "grid = Grid([[\"X\", \"X\", \"X\", \"X\"], [\"X\", \"X\", \"X\", \"X\"], [\"X\", \"X\", \"X\", \"X\"]])"
   ]
  },
  {
   "cell_type": "code",
   "execution_count": 5,
   "id": "f6baafa2",
   "metadata": {},
   "outputs": [
    {
     "data": {
      "image/png": "[encoded data removed]",
      "text/plain": [
       "<Figure size 400x300 with 12 Axes>"
      ]
     },
     "metadata": {},
     "output_type": "display_data"
    }
   ],
   "source": [
    "vis_grid.draw(\n",
    "    repository=repository,\n",
    "    grid=grid,\n",
    "    show=True\n",
    ")"
   ]
  }
 ],
 "metadata": {
  "kernelspec": {
   "display_name": "Python 3",
   "language": "python",
   "name": "python3"
  },
  "language_info": {
   "codemirror_mode": {
    "name": "ipython",
    "version": 3
   },
   "file_extension": ".py",
   "mimetype": "text/x-python",
   "name": "python",
   "nbconvert_exporter": "python",
   "pygments_lexer": "ipython3",
   "version": "3.12.0"
  }
 },
 "nbformat": 4,
 "nbformat_minor": 5
}
