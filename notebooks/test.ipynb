{
 "cells": [
  {
   "cell_type": "code",
   "execution_count": 1,
   "id": "4d5f9995",
   "metadata": {},
   "outputs": [],
   "source": [
    "from setup import setup\n",
    "\n",
    "setup()"
   ]
  },
  {
   "cell_type": "code",
   "execution_count": 2,
   "id": "0f83d986",
   "metadata": {},
   "outputs": [],
   "source": [
    "from src.config import RULES\n",
    "from src.repository.repository import repository"
   ]
  },
  {
   "cell_type": "code",
   "execution_count": 3,
   "id": "5e03b223",
   "metadata": {},
   "outputs": [],
   "source": [
    "repository.register_patterns(path=RULES)"
   ]
  }
 ],
 "metadata": {
  "kernelspec": {
   "display_name": "Python 3",
   "language": "python",
   "name": "python3"
  },
  "language_info": {
   "codemirror_mode": {
    "name": "ipython",
    "version": 3
   },
   "file_extension": ".py",
   "mimetype": "text/x-python",
   "name": "python",
   "nbconvert_exporter": "python",
   "pygments_lexer": "ipython3",
   "version": "3.12.0"
  }
 },
 "nbformat": 4,
 "nbformat_minor": 5
}
