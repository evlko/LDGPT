{
 "cells": [
  {
   "cell_type": "code",
   "execution_count": 1,
   "id": "6ba665ea",
   "metadata": {},
   "outputs": [],
   "source": [
    "import json\n",
    "import random\n",
    "from pathlib import Path\n",
    "\n",
    "import numpy as np"
   ]
  },
  {
   "cell_type": "code",
   "execution_count": 2,
   "id": "25e3786b",
   "metadata": {},
   "outputs": [],
   "source": [
    "from setup import setup\n",
    "\n",
    "setup()"
   ]
  },
  {
   "cell_type": "code",
   "execution_count": 3,
   "id": "1e3da6a0",
   "metadata": {},
   "outputs": [],
   "source": [
    "from config import TRAIN_DATASET_JSON, TRAIN_DATASET_TXT\n",
    "from src.augmentations.handler import AugmentationHandler\n",
    "from src.dataclasses.datapoint import DataPoint"
   ]
  },
  {
   "cell_type": "code",
   "execution_count": 4,
   "id": "c584683f",
   "metadata": {},
   "outputs": [],
   "source": [
    "MAX_AUGS_PER_LEVEL = 5\n",
    "RANDOM_SEED = 42"
   ]
  },
  {
   "cell_type": "code",
   "execution_count": 5,
   "id": "505a917a",
   "metadata": {},
   "outputs": [
    {
     "name": "stdout",
     "output_type": "stream",
     "text": [
      "Construct 65 unique entries\n"
     ]
    }
   ],
   "source": [
    "with open(TRAIN_DATASET_JSON) as f:\n",
    "    raw_data = json.load(f)\n",
    "\n",
    "levels = []\n",
    "for item in raw_data:\n",
    "    datapoint = DataPoint(\n",
    "        label=item[\"label\"],\n",
    "        level=np.array(item[\"level\"]),\n",
    "    )\n",
    "\n",
    "    if datapoint.text not in levels:\n",
    "        levels.append(datapoint.text)\n",
    "\n",
    "    tmp_levels = []\n",
    "    for aug_str in item.get(\"augmentations\", []):\n",
    "        try:\n",
    "            if \"-\" in aug_str:\n",
    "                aug_str, param_str = aug_str.split(\"-\", 1)\n",
    "                param = int(param_str)\n",
    "                for i in range(1, param + 1):\n",
    "                    augmented = AugmentationHandler.handle(\n",
    "                        augmentation=aug_str, datap=datapoint, param=i\n",
    "                    )\n",
    "                    if (\n",
    "                        augmented.text not in levels\n",
    "                        and augmented.text not in tmp_levels\n",
    "                    ):\n",
    "                        tmp_levels.append(augmented.text)\n",
    "            else:\n",
    "                augmented = AugmentationHandler.handle(\n",
    "                    augmentation=aug_str, datap=datapoint\n",
    "                )\n",
    "                if augmented.text not in levels and augmented.text not in tmp_levels:\n",
    "                    tmp_levels.append(augmented.text)\n",
    "\n",
    "        except Exception as e:\n",
    "            print(f\"Skipping augmentation '{aug_str}' due to error: {e}\")\n",
    "\n",
    "    if len(tmp_levels) > MAX_AUGS_PER_LEVEL:\n",
    "        tmp_levels = random.sample(tmp_levels, MAX_AUGS_PER_LEVEL)\n",
    "\n",
    "    levels.extend(tmp_levels)\n",
    "\n",
    "Path(TRAIN_DATASET_TXT).write_text(\"\\n\".join(levels))\n",
    "print(f\"Construct {len(levels)} unique entries\")"
   ]
  }
 ],
 "metadata": {
  "kernelspec": {
   "display_name": "Python 3",
   "language": "python",
   "name": "python3"
  },
  "language_info": {
   "codemirror_mode": {
    "name": "ipython",
    "version": 3
   },
   "file_extension": ".py",
   "mimetype": "text/x-python",
   "name": "python",
   "nbconvert_exporter": "python",
   "pygments_lexer": "ipython3",
   "version": "3.12.0"
  }
 },
 "nbformat": 4,
 "nbformat_minor": 5
}
